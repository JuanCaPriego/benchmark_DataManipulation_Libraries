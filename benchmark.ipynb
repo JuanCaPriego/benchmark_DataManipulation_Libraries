{
 "cells": [
  {
   "cell_type": "markdown",
   "metadata": {},
   "source": [
    "## Libraries"
   ]
  },
  {
   "cell_type": "code",
   "execution_count": 2,
   "metadata": {},
   "outputs": [],
   "source": [
    "import os\n",
    "import time\n",
    "\n",
    "import polars as pl\n",
    "import pandas as pd\n",
    "import duckdb\n",
    "\n",
    "# import pyspark\n",
    "# from pyspark.sql import SparkSession\n",
    "\n",
    "#Might add ibis vaex\n",
    "\n",
    "import seaborn as sns\n",
    "import matplotlib.pyplot as plt\n"
   ]
  },
  {
   "cell_type": "markdown",
   "metadata": {},
   "source": [
    "## Raw Files [Path]"
   ]
  },
  {
   "cell_type": "code",
   "execution_count": 3,
   "metadata": {},
   "outputs": [],
   "source": [
    "raw_main_data = r'Data_extracted\\creditcard.csv'"
   ]
  },
  {
   "cell_type": "markdown",
   "metadata": {},
   "source": [
    "## File reading"
   ]
  },
  {
   "cell_type": "code",
   "execution_count": 4,
   "metadata": {},
   "outputs": [],
   "source": [
    "def read_files(path: str, reader: str) -> dict:\n",
    "    finalTime = None\n",
    "    df = None\n",
    "    if reader  == 'duckDB':\n",
    "        global con_duck\n",
    "        startTime = time.time()\n",
    "\n",
    "        con_duck = duckdb.connect(database = \":memory:\")\n",
    "\n",
    "        con_duck.execute('CREATE TABLE creditcard AS FROM read_csv_auto(\"Data_extracted\\creditcard.csv\")')\n",
    "        df = con_duck.execute(\"SELECT * FROM creditcard\").fetchdf()\n",
    "\n",
    "        endTime = time.time()\n",
    "\n",
    "    elif reader  == 'pandas':\n",
    "        startTime = time.time()\n",
    "        df = pd.read_csv(path)\n",
    "        endTime = time.time()\n",
    "    elif reader  == 'polars':\n",
    "        startTime = time.time()\n",
    "        df = pl.read_csv(path, ignore_errors=True)\n",
    "        endTime = time.time()\n",
    "\n",
    "    finalTime = endTime - startTime\n",
    "    assert len(df) > 0\n",
    "    \n",
    "    return {\n",
    "            'reader':reader,\n",
    "            'reading_time': finalTime,\n",
    "            'data': df\n",
    "            }\n",
    "\n",
    "def data_populating(df, reader: str, register_multipliyer: int) -> dict:\n",
    "    finalTime = None\n",
    "    df_concated = None\n",
    "    if reader == 'duckDB':\n",
    "\n",
    "        startTime = time.time()\n",
    "        con_duck.register(\"my_data\", df)\n",
    "        for _ in range(1,register_multipliyer):\n",
    "            con_duck.execute(\"INSERT INTO creditcard SELECT * FROM my_data\")\n",
    "            \n",
    "        df_concated = con_duck.execute(\"SELECT * FROM creditcard\").fetchdf()\n",
    "\n",
    "        endTime = time.time()\n",
    "\n",
    "    elif reader == 'pandas':\n",
    "        startTime = time.time()\n",
    "        df_concated = pd.concat([df]* register_multipliyer, ignore_index=True)\n",
    "        endTime = time.time()\n",
    "\n",
    "    elif reader == 'polars':\n",
    "        startTime = time.time()\n",
    "\n",
    "        df_concated = pl.concat([df] * register_multipliyer)\n",
    "\n",
    "        endTime = time.time()\n",
    "\n",
    "    \n",
    "    finalTime = endTime - startTime\n",
    "\n",
    "    assert len(df_concated) == register_multipliyer*len(df)\n",
    "    \n",
    "    return {\n",
    "            'reader':reader,\n",
    "            'reading_time': finalTime,\n",
    "            'data' : df_concated\n",
    "            }\n",
    "\n",
    "def data_grouping(data, reader: str, grouping_columns: list, agg_columns: list) -> dict:\n",
    "    finalTime = None\n",
    "    df_concated = None\n",
    "    if reader == 'duckDB':\n",
    "\n",
    "        startTime = time.time()\n",
    "            \n",
    "        df_grouped = con_duck.execute(\"SELECT * FROM creditcard\").fetchdf()\n",
    "\n",
    "        endTime = time.time()\n",
    "\n",
    "    elif reader == 'pandas':\n",
    "        startTime = time.time()\n",
    "        df_grouped = data.groupby(by=[grouping_columns])[agg_columns].sum()\n",
    "        endTime = time.time()\n",
    "\n",
    "    elif reader == 'polars':\n",
    "\n",
    "        agg_exprs = [pl.col(col).sum() for col in agg_columns]\n",
    "        \n",
    "        startTime = time.time()\n",
    "\n",
    "        df_grouped = data.group_by(grouping_columns).agg(agg_exprs)\n",
    "\n",
    "        endTime = time.time()\n",
    "\n",
    "    \n",
    "    finalTime = endTime - startTime\n",
    "\n",
    "    return {\n",
    "            'reader':reader,\n",
    "            'reading_time': finalTime,\n",
    "            'data' : df_concated\n",
    "            }\n",
    "\n",
    "def format_to_parquet(df, reader: str, saving_path: str):\n",
    "    finalTime = None\n",
    "    if 'duckDB':\n",
    "        startTime = time.time()\n",
    "        df.to_parquet()\n",
    "        endTime = time.time()\n",
    "    elif 'pandas':\n",
    "        df.to_arrow(f'{saving_path}_polars.parquet')\n",
    "    elif 'polars':\n",
    "        df.write_parquet(f'{saving_path}_polars.parquet')\n",
    "    \n",
    "    finalTime = endTime - startTime\n",
    "\n",
    "    return {\n",
    "            'reader':reader,\n",
    "            'reading_time': finalTime,\n",
    "            }"
   ]
  },
  {
   "cell_type": "code",
   "execution_count": 16,
   "metadata": {},
   "outputs": [],
   "source": [
    "test = pl.read_csv('Data_extracted/creditcard.csv', infer_schema=False).select(['Class','Amount'])"
   ]
  },
  {
   "cell_type": "code",
   "execution_count": null,
   "metadata": {},
   "outputs": [
    {
     "ename": "AttributeError",
     "evalue": "'Series' object has no attribute 'columns'",
     "output_type": "error",
     "traceback": [
      "\u001b[31m---------------------------------------------------------------------------\u001b[39m",
      "\u001b[31mAttributeError\u001b[39m                            Traceback (most recent call last)",
      "\u001b[36mCell\u001b[39m\u001b[36m \u001b[39m\u001b[32mIn[20]\u001b[39m\u001b[32m, line 1\u001b[39m\n\u001b[32m----> \u001b[39m\u001b[32m1\u001b[39m agg_exprs = [pl.col(col).sum() \u001b[38;5;28;01mfor\u001b[39;00m col \u001b[38;5;129;01min\u001b[39;00m \u001b[43mtest\u001b[49m\u001b[43m[\u001b[49m\u001b[33;43m'\u001b[39;49m\u001b[33;43mAmount\u001b[39;49m\u001b[33;43m'\u001b[39;49m\u001b[43m]\u001b[49m\u001b[43m.\u001b[49m\u001b[43mcolumns\u001b[49m]\n\u001b[32m      3\u001b[39m test.group_by([\u001b[33m'\u001b[39m\u001b[33mClass\u001b[39m\u001b[33m'\u001b[39m]).agg(agg_exprs)\n\u001b[32m      4\u001b[39m test\n",
      "\u001b[31mAttributeError\u001b[39m: 'Series' object has no attribute 'columns'"
     ]
    }
   ],
   "source": [
    "agg_exprs = [pl.col(col).sum() for col in test['Amount']]\n",
    "\n",
    "test.group_by(['Class']).agg(agg_exprs)\n",
    "test"
   ]
  },
  {
   "cell_type": "markdown",
   "metadata": {},
   "source": [
    "## Reading Speed"
   ]
  },
  {
   "cell_type": "code",
   "execution_count": 4,
   "metadata": {},
   "outputs": [
    {
     "name": "stdout",
     "output_type": "stream",
     "text": [
      "polars: 0.1835169792175293\n",
      "pandas: 1.2530531883239746\n",
      "duckDB: 0.6130874156951904\n"
     ]
    }
   ],
   "source": [
    "readers = ['polars','pandas','duckDB']\n",
    "reading_results = {}\n",
    "\n",
    "for reader in readers:\n",
    "    reading_results[reader] = read_files(path = raw_main_data, reader = reader)\n",
    "\n",
    "graph_results = {}\n",
    "for reader in readers:\n",
    "    graph_results[reader] = reading_results[reader][\"reading_time\"]\n",
    "    print(f'{reader}: {reading_results[reader][\"reading_time\"]}') "
   ]
  },
  {
   "cell_type": "code",
   "execution_count": 16,
   "metadata": {},
   "outputs": [
    {
     "data": {
      "image/png": "[encoded data removed]",
      "text/plain": [
       "<Figure size 640x480 with 1 Axes>"
      ]
     },
     "metadata": {},
     "output_type": "display_data"
    }
   ],
   "source": [
    "sns.barplot(x=list(graph_results.keys()),y=list(graph_results.values()))\n",
    "\n",
    "plt.title('Reading Speed')\n",
    "plt.xlabel('Library')\n",
    "plt.ylabel('Time (s)')\n",
    "plt.show()"
   ]
  },
  {
   "cell_type": "markdown",
   "metadata": {},
   "source": [
    "## Register Increment Speed"
   ]
  },
  {
   "cell_type": "code",
   "execution_count": 18,
   "metadata": {},
   "outputs": [
    {
     "name": "stdout",
     "output_type": "stream",
     "text": [
      "polars: 0.008165121078491211\n",
      "polars: 1424035\n",
      "pandas: 0.1342945098876953\n",
      "pandas: 1424035\n",
      "duckDB: 1.1042563915252686\n",
      "duckDB: 1424035\n"
     ]
    }
   ],
   "source": [
    "increment_results = {}\n",
    "\n",
    "for reader in readers:\n",
    "    increment_results[reader] = data_populating(df = reading_results[reader][\"data\"], reader = reader, register_multipliyer = 5)\n",
    "\n",
    "graph_results = {}\n",
    "for reader in readers:\n",
    "    graph_results[reader] = increment_results[reader][\"reading_time\"]\n",
    "    print(f'{reader}: {increment_results[reader][\"reading_time\"]}') \n",
    "    print(f'{reader}: {len(increment_results[reader][\"data\"])}') \n"
   ]
  },
  {
   "cell_type": "code",
   "execution_count": 20,
   "metadata": {},
   "outputs": [
    {
     "data": {
      "image/png": "[encoded data removed]",
      "text/plain": [
       "<Figure size 640x480 with 1 Axes>"
      ]
     },
     "metadata": {},
     "output_type": "display_data"
    }
   ],
   "source": [
    "sns.barplot(x=list(graph_results.keys()),y=list(graph_results.values()))\n",
    "\n",
    "plt.title('Data Populating Speed')\n",
    "plt.xlabel('Library')\n",
    "plt.ylabel('Time (s)')\n",
    "plt.show()"
   ]
  },
  {
   "cell_type": "markdown",
   "metadata": {},
   "source": [
    "## Data Grouping Speed"
   ]
  },
  {
   "cell_type": "code",
   "execution_count": null,
   "metadata": {},
   "outputs": [],
   "source": [
    "grouping_results = {}\n",
    "\n",
    "for reader in readers:\n",
    "    grouping_results[reader] = data_populating(df = increment_results[reader][\"data\"], reader = reader, register_multipliyer = 5)\n",
    "\n",
    "graph_results = {}\n",
    "for reader in readers:\n",
    "    graph_results[reader] = grouping_results[reader][\"reading_time\"]\n",
    "    print(f'{reader}: {grouping_results[reader][\"reading_time\"]}') \n",
    "    print(f'{reader}: {len(grouping_results[reader][\"data\"])}') "
   ]
  },
  {
   "cell_type": "markdown",
   "metadata": {},
   "source": [
    "## Data Filtering Speed"
   ]
  },
  {
   "cell_type": "markdown",
   "metadata": {},
   "source": [
    "## Column Sorting Speed"
   ]
  },
  {
   "cell_type": "markdown",
   "metadata": {},
   "source": [
    "## Memory Usage"
   ]
  },
  {
   "cell_type": "markdown",
   "metadata": {},
   "source": [
    "## Data Offload Speed"
   ]
  },
  {
   "cell_type": "markdown",
   "metadata": {},
   "source": []
  }
 ],
 "metadata": {
  "kernelspec": {
   "display_name": "venv",
   "language": "python",
   "name": "python3"
  },
  "language_info": {
   "codemirror_mode": {
    "name": "ipython",
    "version": 3
   },
   "file_extension": ".py",
   "mimetype": "text/x-python",
   "name": "python",
   "nbconvert_exporter": "python",
   "pygments_lexer": "ipython3",
   "version": "3.11.9"
  }
 },
 "nbformat": 4,
 "nbformat_minor": 2
}
