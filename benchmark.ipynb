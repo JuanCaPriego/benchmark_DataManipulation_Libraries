{
 "cells": [
  {
   "cell_type": "markdown",
   "metadata": {},
   "source": [
    "## Libraries"
   ]
  },
  {
   "cell_type": "code",
   "execution_count": 1,
   "metadata": {},
   "outputs": [],
   "source": [
    "import os\n",
    "import time\n",
    "\n",
    "import polars as pl\n",
    "import pandas as pd\n",
    "import duckdb\n",
    "\n",
    "# import pyspark\n",
    "# from pyspark.sql import SparkSession\n",
    "\n",
    "#Might add ibis vaex"
   ]
  },
  {
   "cell_type": "markdown",
   "metadata": {},
   "source": [
    "## Raw Files [Path]"
   ]
  },
  {
   "cell_type": "code",
   "execution_count": 2,
   "metadata": {},
   "outputs": [],
   "source": [
    "raw_main_data = r'Data_extracted\\creditcard.csv'"
   ]
  },
  {
   "cell_type": "markdown",
   "metadata": {},
   "source": [
    "## File reading"
   ]
  },
  {
   "cell_type": "code",
   "execution_count": 3,
   "metadata": {},
   "outputs": [],
   "source": [
    "def read_files(path: str, reader: str) -> dict:\n",
    "    finalTime = None\n",
    "    df = None\n",
    "    if reader  == 'duckDB':\n",
    "        \n",
    "        startTime = time.time()\n",
    "\n",
    "        con = duckdb.connect('Files/my_database.duckdb')\n",
    "        con.execute(\"\"\"\n",
    "            CREATE TABLE my_table\n",
    "            SELECT * FROM read_csv_auto('Data_extracted\\creditcard.csv');\n",
    "        \"\"\")\n",
    "        df = con.execute(\"SELECT * FROM my_table LIMIT 5\").fetchdf()\n",
    "        con.close()\n",
    "\n",
    "        endTime = time.time()\n",
    "\n",
    "    elif reader  == 'pandas':\n",
    "        startTime = time.time()\n",
    "        df = pd.read_csv(path)\n",
    "        endTime = time.time()\n",
    "    elif reader  == 'polars':\n",
    "        startTime = time.time()\n",
    "        df = pl.read_csv(path, ignore_errors=True)\n",
    "        endTime = time.time()\n",
    "\n",
    "    finalTime = endTime - startTime\n",
    "    assert len(df) > 0\n",
    "    \n",
    "    return {\n",
    "            'reader':reader,\n",
    "            'reading_time': finalTime,\n",
    "            'data': df\n",
    "            }\n",
    "\n",
    "def data_populating(df, reader: str, register_multipliyer: int) -> dict:\n",
    "    finalTime = None\n",
    "    df_concated = None\n",
    "    if reader == 'duckDB':\n",
    "        con = duckdb.connect('Files/my_database.duckdb')\n",
    "        startTime = time.time()\n",
    "        con.register(\"my_data\", df)\n",
    "        for _ in range(register_multipliyer):\n",
    "            con.execute(\"INSERT INTO my_table SELECT * FROM my_data\")\n",
    "        result = duckdb.sql(\"SELECT * FROM my_table\").to_df()\n",
    "        endTime = time.time()\n",
    "        con.close()\n",
    "    elif reader == 'pandas':\n",
    "        startTime = time.time()\n",
    "        df_concated = pd.concat([df]*3, ignore_index=True)\n",
    "        endTime = time.time()\n",
    "\n",
    "    elif reader == 'polars':\n",
    "        startTime = time.time()\n",
    "        # for i in range(register_multipliyer):\n",
    "        #     df_concated = df.vstack(f'{saving_path}_polars.parquet')\n",
    "        df_concated = pl.concat([df] * register_multipliyer)\n",
    "\n",
    "        endTime = time.time()\n",
    "\n",
    "    \n",
    "    finalTime = endTime - startTime\n",
    "\n",
    "    assert len(df_concated) == register_multipliyer*len(df)\n",
    "    \n",
    "    return {\n",
    "            'reader':reader,\n",
    "            'reading_time': finalTime,\n",
    "            }\n",
    "\n",
    "def format_to_parquet(df, reader: str, saving_path: str):\n",
    "    finalTime = None\n",
    "    if 'duckDB':\n",
    "        startTime = time.time()\n",
    "        df.to_parquet()\n",
    "        endTime = time.time()\n",
    "    elif 'pandas':\n",
    "        df.to_arrow(f'{saving_path}_polars.parquet')\n",
    "    elif 'polars':\n",
    "        df.write_parquet(f'{saving_path}_polars.parquet')\n",
    "    \n",
    "    finalTime = endTime - startTime\n",
    "\n",
    "    return {\n",
    "            'reader':reader,\n",
    "            'reading_time': finalTime,\n",
    "            }"
   ]
  },
  {
   "cell_type": "code",
   "execution_count": 4,
   "metadata": {},
   "outputs": [
    {
     "ename": "ParserException",
     "evalue": "Parser Error: syntax error at or near \"SELECT\"",
     "output_type": "error",
     "traceback": [
      "\u001b[31m---------------------------------------------------------------------------\u001b[39m",
      "\u001b[31mParserException\u001b[39m                           Traceback (most recent call last)",
      "\u001b[36mCell\u001b[39m\u001b[36m \u001b[39m\u001b[32mIn[4]\u001b[39m\u001b[32m, line 1\u001b[39m\n\u001b[32m----> \u001b[39m\u001b[32m1\u001b[39m a = \u001b[43mread_files\u001b[49m\u001b[43m(\u001b[49m\u001b[43mpath\u001b[49m\u001b[43m \u001b[49m\u001b[43m=\u001b[49m\u001b[43m \u001b[49m\u001b[43mraw_main_data\u001b[49m\u001b[43m,\u001b[49m\u001b[43mreader\u001b[49m\u001b[43m \u001b[49m\u001b[43m=\u001b[49m\u001b[43m \u001b[49m\u001b[33;43m'\u001b[39;49m\u001b[33;43mduckDB\u001b[39;49m\u001b[33;43m'\u001b[39;49m\u001b[43m)\u001b[49m\n\u001b[32m      2\u001b[39m data_populating(df = pd.read_csv(\u001b[33m'\u001b[39m\u001b[33mData_extracted\u001b[39m\u001b[33m\\\u001b[39m\u001b[33mcreditcard.csv\u001b[39m\u001b[33m'\u001b[39m), reader = \u001b[33m'\u001b[39m\u001b[33mduckDB\u001b[39m\u001b[33m'\u001b[39m, register_multipliyer = \u001b[32m2\u001b[39m)\n",
      "\u001b[36mCell\u001b[39m\u001b[36m \u001b[39m\u001b[32mIn[3]\u001b[39m\u001b[32m, line 9\u001b[39m, in \u001b[36mread_files\u001b[39m\u001b[34m(path, reader)\u001b[39m\n\u001b[32m      6\u001b[39m startTime = time.time()\n\u001b[32m      8\u001b[39m con = duckdb.connect(\u001b[33m'\u001b[39m\u001b[33mFiles/my_database.duckdb\u001b[39m\u001b[33m'\u001b[39m)\n\u001b[32m----> \u001b[39m\u001b[32m9\u001b[39m \u001b[43mcon\u001b[49m\u001b[43m.\u001b[49m\u001b[43mexecute\u001b[49m\u001b[43m(\u001b[49m\u001b[33;43m\"\"\"\u001b[39;49m\n\u001b[32m     10\u001b[39m \u001b[33;43m    CREATE TABLE my_table\u001b[39;49m\n\u001b[32m     11\u001b[39m \u001b[33;43m    SELECT * FROM read_csv_auto(\u001b[39;49m\u001b[33;43m'\u001b[39;49m\u001b[33;43mData_extracted\u001b[39;49m\u001b[33;43m\\\u001b[39;49m\u001b[33;43mcreditcard.csv\u001b[39;49m\u001b[33;43m'\u001b[39;49m\u001b[33;43m);\u001b[39;49m\n\u001b[32m     12\u001b[39m \u001b[33;43m\u001b[39;49m\u001b[33;43m\"\"\"\u001b[39;49m\u001b[43m)\u001b[49m\n\u001b[32m     13\u001b[39m df = con.execute(\u001b[33m\"\u001b[39m\u001b[33mSELECT * FROM my_table LIMIT 5\u001b[39m\u001b[33m\"\u001b[39m).fetchdf()\n\u001b[32m     14\u001b[39m con.close()\n",
      "\u001b[31mParserException\u001b[39m: Parser Error: syntax error at or near \"SELECT\""
     ]
    }
   ],
   "source": [
    "a = read_files(path = raw_main_data,reader = 'duckDB')\n",
    "data_populating(df = pd.read_csv('Data_extracted\\creditcard.csv'), reader = 'duckDB', register_multipliyer = 2)"
   ]
  },
  {
   "cell_type": "markdown",
   "metadata": {},
   "source": [
    "## Reading Speed"
   ]
  },
  {
   "cell_type": "markdown",
   "metadata": {},
   "source": [
    "## Register Increment Speed"
   ]
  },
  {
   "cell_type": "markdown",
   "metadata": {},
   "source": [
    "## Data Grouping Speed"
   ]
  },
  {
   "cell_type": "markdown",
   "metadata": {},
   "source": [
    "## Data Filtering Speed"
   ]
  },
  {
   "cell_type": "markdown",
   "metadata": {},
   "source": [
    "## Column Sorting Speed"
   ]
  },
  {
   "cell_type": "markdown",
   "metadata": {},
   "source": [
    "## Memory Usage"
   ]
  },
  {
   "cell_type": "markdown",
   "metadata": {},
   "source": [
    "## Data Offload Speed"
   ]
  },
  {
   "cell_type": "markdown",
   "metadata": {},
   "source": []
  }
 ],
 "metadata": {
  "kernelspec": {
   "display_name": "venv",
   "language": "python",
   "name": "python3"
  },
  "language_info": {
   "codemirror_mode": {
    "name": "ipython",
    "version": 3
   },
   "file_extension": ".py",
   "mimetype": "text/x-python",
   "name": "python",
   "nbconvert_exporter": "python",
   "pygments_lexer": "ipython3",
   "version": "3.11.9"
  }
 },
 "nbformat": 4,
 "nbformat_minor": 2
}
